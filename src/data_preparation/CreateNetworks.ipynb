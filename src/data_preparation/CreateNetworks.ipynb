{
 "cells": [
  {
   "cell_type": "code",
   "execution_count": 1,
   "id": "c890f90f",
   "metadata": {},
   "outputs": [],
   "source": [
    "import sys\n",
    "sys.path.append('../../')\n",
    "import os \n",
    "\n",
    "\n",
    "import numpy as np\n",
    "import json\n",
    "from datetime import datetime\n",
    "import os\n",
    "import pandas as pd\n",
    "\n",
    "import networkx as nx\n",
    "from src.utils import read_users, read_friends"
   ]
  },
  {
   "cell_type": "markdown",
   "id": "ef00a603",
   "metadata": {},
   "source": [
    "## Initialize"
   ]
  },
  {
   "cell_type": "code",
   "execution_count": 2,
   "id": "2a790902",
   "metadata": {},
   "outputs": [],
   "source": [
    "main_dir = '../../'\n",
    "config_path = main_dir + 'config/config.json'\n",
    "\n",
    "assert os.path.exists(config_path)\n",
    "\n",
    "with open(config_path) as file:\n",
    "        config = json.load(file)"
   ]
  },
  {
   "cell_type": "code",
   "execution_count": 3,
   "id": "7c87c5a8",
   "metadata": {},
   "outputs": [
    {
     "name": "stdout",
     "output_type": "stream",
     "text": [
      "Reading user information files: ['users_2.json', 'users_1.json', 'users_0.json']\n"
     ]
    }
   ],
   "source": [
    "all_user_dict = read_users(main_dir, config)"
   ]
  },
  {
   "cell_type": "markdown",
   "id": "83f4faab",
   "metadata": {},
   "source": [
    "## Follower Network\n",
    "\n",
    "### Create full follower Network\n",
    "(list entry 'a b' if b is friend of a, i.e. a folllows b and b is in user list)"
   ]
  },
  {
   "cell_type": "code",
   "execution_count": null,
   "id": "a4840d8c",
   "metadata": {},
   "outputs": [],
   "source": [
    "friends_dict = read_friends(main_dir, config)"
   ]
  },
  {
   "cell_type": "code",
   "execution_count": null,
   "id": "94c6f8cf",
   "metadata": {},
   "outputs": [],
   "source": [
    "#contruct edge list of json files \n",
    "links = []\n",
    "\n",
    "for user in friends_dict:\n",
    "    curr_friends = friends_dict[user]\n",
    "    for friends_id in curr_friends:\n",
    "        if friends_id in all_user_ids:\n",
    "            links.append(f'{user} {friends_id}')\n",
    "\n",
    "print(f\"Number of edges: {len(links)}\")"
   ]
  },
  {
   "cell_type": "code",
   "execution_count": null,
   "id": "036fcb69",
   "metadata": {},
   "outputs": [],
   "source": [
    "#parse edge list as networkx directed graph (needs a bit of time)\n",
    "G = nx.parse_edgelist(links, nodetype=int, create_using=nx.DiGraph)\n",
    "\n",
    "#save graph as graphml\n",
    "graph_path = os.path.join(main_dir, config['graphs_dir'])\n",
    "nx.write_graphml_lxml(G, os.path.join(graph_path, \"follower_network_full.graphml\")) "
   ]
  },
  {
   "cell_type": "markdown",
   "id": "4b92f4f4",
   "metadata": {},
   "source": [
    "### Create Influencer Follower Network\n",
    "Get subnetwork containing only nodes with a lot of followers (\"micro\" influencer: > 1000 followers)"
   ]
  },
  {
   "cell_type": "code",
   "execution_count": null,
   "id": "fa678981",
   "metadata": {},
   "outputs": [],
   "source": [
    "#get nodes with a lot of followers\n",
    "print(f\"Influencer follower count - lower limit: {config['influencer_lower_limit']}\")\n",
    "high_indeg_nodes = []\n",
    "for (node, val) in G.in_degree():\n",
    "    if val > influencer_lower_limit:\n",
    "        high_indeg_nodes.append((node,val))\n",
    "len(high_indeg_nodes)"
   ]
  },
  {
   "cell_type": "code",
   "execution_count": null,
   "id": "9a695086",
   "metadata": {},
   "outputs": [],
   "source": [
    "#save some information on \"influencer\" nodes\n",
    "most_popular = pd.DataFrame()\n",
    "most_popular['screen_name'] = [all_user_dict[str(node)]['screen_name'] for (node, val) in  high_indeg_nodes]\n",
    "most_popular['id'] = [node for (node, val) in  high_indeg_nodes]\n",
    "most_popular['indegree'] = [val for (node, val) in  high_indeg_nodes]\n",
    "most_popular['outdegree'] = [G.out_degree(node) for (node, val) in  high_indeg_nodes]\n",
    "most_popular = most_popular.sort_values(by=['indegree'], ascending=False)\n",
    "\n",
    "pop_ids = set(most_popular['id'])\n",
    "pop_screen_names = set(most_popular['screen_name'])\n",
    "\n",
    "results_path = os.path.join(main_dir, config['results_dir'])\n",
    "most_popular.to_csv(os.path.join(results_path, f\"{config['influencer_fname']}_{config['influencer_lower_limit']}.csv\"), index=False)"
   ]
  },
  {
   "cell_type": "code",
   "execution_count": null,
   "id": "abe646fc",
   "metadata": {},
   "outputs": [],
   "source": [
    "#get subnetwork\n",
    "pop_dict = {}\n",
    "for index, row in most_popular.iterrows():\n",
    "    most_pop = {}\n",
    "    most_pop['screen_name'] = row['screen_name']\n",
    "    most_pop['indegree']=row['indegree']\n",
    "    most_pop['outdegree']=row['outdegree']\n",
    "    pop_dict[row['id']]=most_pop"
   ]
  },
  {
   "cell_type": "code",
   "execution_count": null,
   "id": "6272746b",
   "metadata": {},
   "outputs": [],
   "source": [
    "#contruct edge list of json files (list entry 'a b' if b is friend of a, i.e. a folllows b and b is in user list)\n",
    "links = []\n",
    "\n",
    "for user in friends_dict:\n",
    "    if int(user) not in pop_ids:\n",
    "        continue\n",
    "        \n",
    "    curr_friends = friends_dict[user]\n",
    "    for friends_id in curr_friends:\n",
    "        if friends_id in all_user_ids:\n",
    "            if friends_id in pop_ids:\n",
    "                links.append(f'{user} {friends_id}')\n",
    "\n",
    "print(f\"Number of edges: {len(links)}\")"
   ]
  },
  {
   "cell_type": "code",
   "execution_count": null,
   "id": "5b6fc5c3",
   "metadata": {},
   "outputs": [],
   "source": [
    "#parse edge list as networkx directed graph\n",
    "G_influencer = nx.parse_edgelist(links, nodetype=int, create_using=nx.DiGraph)\n",
    "\n",
    "#add information from original graph as attributes\n",
    "attrs = {}\n",
    "for node in G_influencer.nodes():\n",
    "    att = {}\n",
    "    att['id'] = all_user_dict[str(node)]['id']\n",
    "    att['screen_name'] = all_user_dict[str(node)]['screen_name']\n",
    "    date = all_user_dict[str(node)]['created_at']\n",
    "    date = datetime.strptime(date, '%a %b %d %H:%M:%S %z %Y')\n",
    "    att['created_at'] = all_user_dict[str(node)]['created_at']\n",
    "    att['created_at_date'] = date.strftime(\"%Y-%m-%d\")\n",
    "    att['location'] = all_user_dict[str(node)]['location']\n",
    "    att['original_indegree'] = pop_dict[int(node)]['indegree']\n",
    "    att['original_outdegree'] = pop_dict[int(node)]['outdegree']\n",
    "    attrs[node] = att\n",
    "\n",
    "nx.set_node_attributes(G_influencer, attrs)\n",
    "\n",
    "#save graph\n",
    "graph_path = os.path.join(main_dir, config['graphs_dir'])\n",
    "nx.write_graphml_lxml(G_influencer, os.path.join(graph_path, f\"follower_network_influencer_{config['influencer_lower_limit']}.graphml\")) "
   ]
  },
  {
   "cell_type": "markdown",
   "id": "86bcee06",
   "metadata": {},
   "source": [
    "## Interaction Network"
   ]
  },
  {
   "cell_type": "code",
   "execution_count": 4,
   "id": "531577b1",
   "metadata": {},
   "outputs": [],
   "source": [
    "tweets_path = os.path.join(main_dir, config['tweets_dir'])\n",
    "\n",
    "with open(os.path.join(tweets_path, 'interaction_tweets.json')) as json_file:\n",
    "    interactions = json.load(json_file) "
   ]
  },
  {
   "cell_type": "code",
   "execution_count": 13,
   "id": "67820615",
   "metadata": {},
   "outputs": [],
   "source": [
    "#add directed edge for every interaction\n",
    "network = {}\n",
    "links = []\n",
    "for user in interactions:\n",
    "    annot_list = interactions[user]\n",
    "    network_friends = []\n",
    "    for annot in annot_list:\n",
    "        if str(annot['receiver']) in all_user_dict:\n",
    "            network_friends.append(annot['receiver'])\n",
    "            links.append(f\"{user} {annot['receiver']}\")\n",
    "        network[user] = network_friends  \n",
    "\n",
    "G = nx.parse_edgelist(links, nodetype=int, create_using=nx.MultiDiGraph)"
   ]
  },
  {
   "cell_type": "code",
   "execution_count": 15,
   "id": "01a1c4e8",
   "metadata": {},
   "outputs": [],
   "source": [
    "#save graph\n",
    "graph_path = os.path.join(main_dir, config['graphs_dir'])\n",
    "nx.write_graphml_lxml(G, os.path.join(graph_path, f\"interaction_graph.graphml\")) "
   ]
  }
 ],
 "metadata": {
  "kernelspec": {
   "display_name": "Python 3 (ipykernel)",
   "language": "python",
   "name": "python3"
  },
  "language_info": {
   "codemirror_mode": {
    "name": "ipython",
    "version": 3
   },
   "file_extension": ".py",
   "mimetype": "text/x-python",
   "name": "python",
   "nbconvert_exporter": "python",
   "pygments_lexer": "ipython3",
   "version": "3.10.6"
  }
 },
 "nbformat": 4,
 "nbformat_minor": 5
}
