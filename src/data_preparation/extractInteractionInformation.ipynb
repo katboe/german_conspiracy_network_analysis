{
 "cells": [
  {
   "cell_type": "code",
   "execution_count": 3,
   "id": "9a5a3d4d",
   "metadata": {},
   "outputs": [],
   "source": [
    "import os\n",
    "import sys\n",
    "sys.path.append('../../')\n",
    "\n",
    "import json\n",
    "import yaml\n",
    "import pandas as pd\n",
    "import numpy as np\n",
    "\n",
    "from src.utils import get_tweet_filepaths,read_users"
   ]
  },
  {
   "cell_type": "code",
   "execution_count": 4,
   "id": "4c29fba7",
   "metadata": {},
   "outputs": [],
   "source": [
    "main_dir = '../..'\n",
    "config_path = os.path.join(main_dir, 'config/config.json')\n",
    "\n",
    "#load config file\n",
    "assert os.path.exists(config_path)\n",
    "with open(config_path) as file:\n",
    "    config = json.load(file)"
   ]
  },
  {
   "cell_type": "code",
   "execution_count": 5,
   "id": "b837ec29",
   "metadata": {},
   "outputs": [
    {
     "name": "stdout",
     "output_type": "stream",
     "text": [
      "Reading user information files: ['users_2.json', 'users_1.json', 'users_0.json']\n"
     ]
    }
   ],
   "source": [
    "tweet_filepaths = get_tweet_filepaths(main_dir, config)\n",
    "users = read_users(main_dir, config)"
   ]
  },
  {
   "cell_type": "markdown",
   "id": "1756ba61",
   "metadata": {},
   "source": [
    "## Extract Interactions"
   ]
  },
  {
   "cell_type": "code",
   "execution_count": null,
   "id": "865f9a91",
   "metadata": {},
   "outputs": [],
   "source": [
    "interactions = {}\n",
    "\n",
    "for filepath in tweet_filepaths:\n",
    "    \n",
    "    try:\n",
    "        #files are large so loading each file can take a while\n",
    "        with open(filepath) as json_file:\n",
    "            print(f'Loading {filepath}')\n",
    "            tmp_tweets = json.load(json_file)\n",
    "\n",
    "        #for each user's tweets: count hashtags and extract tweets containing specific hashtags\n",
    "        for user in tmp_tweets:\n",
    "            curr_user_tweets = tmp_tweets[user]\n",
    "            \n",
    "            for tweet_id in curr_user_tweets:\n",
    "                tweet = curr_user_tweets[tweet_id]\n",
    "                print(tweet)\n",
    "                \n",
    "                for annot in tweet['entities']['user_mentions']:\n",
    "                    if annot['id'] in users:\n",
    "                        edge = {}\n",
    "                        edge['tweet'] = tweet['id']\n",
    "                        edge['sender'] = tweet['user']['id']\n",
    "                        edge['receiver'] = annot['id']\n",
    "\n",
    "                        if tweet['user']['id'] in interactions:\n",
    "                            tweet_list = interactions[tweet['user']['id']] \n",
    "                            tweet_list.append(edge)\n",
    "                            interactions[tweet['user']['id']] = tweet_list\n",
    "                        else:\n",
    "                            interactions[tweet['user']['id']] = [edge]\n",
    "\n",
    "                if tweet['retweeted']:\n",
    "                    print(tweet)\n",
    "                    try:\n",
    "                        user_id = tweet['retweeted_status']['user']['id']  \n",
    "                        if user_id in users:\n",
    "                            edge = {}\n",
    "                            edge['tweet'] = tweet['id']\n",
    "                            edge['sender'] = tweet['user']['id']\n",
    "                            edge['receiver'] = user_id\n",
    "\n",
    "                            if tweet['user']['id'] in interactions:\n",
    "                                tweet_list = interactions[tweet['user']['id']] \n",
    "                                tweet_list.append(edge)\n",
    "                                interactions[tweet['user']['id']] = tweet_list\n",
    "                            else:\n",
    "                                interactions[tweet['user']['id']] = [edge]\n",
    "                    except:\n",
    "                        pass\n",
    "        \n",
    "        del tmp_tweets\n",
    "        \n",
    "    except Exception as e:\n",
    "        print(e)\n",
    "        print(f\"Skipping file {filepath}\")"
   ]
  },
  {
   "cell_type": "code",
   "execution_count": null,
   "id": "7d7f9e5c",
   "metadata": {},
   "outputs": [],
   "source": [
    "tweets_path = os.path.join(main_dir, config['tweets_dir'])\n",
    "\n",
    "with open(os.path.join(tweets_path, 'interaction_tweets.json'),'w') as json_file:\n",
    "    json.dump(interactions, json_file)  "
   ]
  },
  {
   "cell_type": "code",
   "execution_count": null,
   "id": "8b9337c6",
   "metadata": {},
   "outputs": [],
   "source": []
  }
 ],
 "metadata": {
  "kernelspec": {
   "display_name": "Python 3 (ipykernel)",
   "language": "python",
   "name": "python3"
  },
  "language_info": {
   "codemirror_mode": {
    "name": "ipython",
    "version": 3
   },
   "file_extension": ".py",
   "mimetype": "text/x-python",
   "name": "python",
   "nbconvert_exporter": "python",
   "pygments_lexer": "ipython3",
   "version": "3.10.6"
  }
 },
 "nbformat": 4,
 "nbformat_minor": 5
}
